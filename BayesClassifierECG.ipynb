{
  "nbformat": 4,
  "nbformat_minor": 0,
  "metadata": {
    "colab": {
      "name": "BayesClassifierECG.ipynb",
      "version": "0.3.2",
      "provenance": [],
      "collapsed_sections": []
    },
    "kernelspec": {
      "name": "python3",
      "display_name": "Python 3"
    }
  },
  "cells": [
    {
      "metadata": {
        "id": "DfByttJIWbgQ",
        "colab_type": "text"
      },
      "cell_type": "markdown",
      "source": [
        "# Bayesian Classification for ECG Time-Series\n",
        "\n",
        "> Copyright 2019 Dave Fernandes. All Rights Reserved.\n",
        "> \n",
        "> Licensed under the Apache License, Version 2.0 (the \"License\");\n",
        "> you may not use this file except in compliance with the License.\n",
        "> You may obtain a copy of the License at\n",
        ">\n",
        "> http://www.apache.org/licenses/LICENSE-2.0\n",
        ">  \n",
        "> Unless required by applicable law or agreed to in writing, software\n",
        "> distributed under the License is distributed on an \"AS IS\" BASIS,\n",
        "> WITHOUT WARRANTIES OR CONDITIONS OF ANY KIND, either express or implied.\n",
        "> See the License for the specific language governing permissions and\n",
        "> limitations under the License."
      ]
    },
    {
      "metadata": {
        "id": "MTd4aHhYWhdN",
        "colab_type": "text"
      },
      "cell_type": "markdown",
      "source": [
        "## Overview\n",
        "This notebook classifies time-series for segmented heartbeats from ECG lead II recordings. Either of two models (CNN or RNN) can be selected from training and evaluation.\n",
        "- Data for this analysis should be prepared using the `PreprocessECG.ipynb` notebook from this project.\n",
        "- Original data is from: https://www.kaggle.com/shayanfazeli/heartbeat"
      ]
    },
    {
      "metadata": {
        "id": "hjmdX-HbWdeI",
        "colab_type": "code",
        "outputId": "be0580f7-a501-457f-9d04-0a95627ecaa8",
        "colab": {
          "base_uri": "https://localhost:8080/",
          "height": 34
        }
      },
      "cell_type": "code",
      "source": [
        "import numpy as np\n",
        "import tensorflow as tf\n",
        "import tensorflow.keras.layers as keras\n",
        "import matplotlib.pyplot as plt\n",
        "import pickle\n",
        "\n",
        "tf.enable_eager_execution()\n",
        "\n",
        "from google.colab import drive\n",
        "drive.mount('/content/drive')\n",
        "\n",
        "TRAIN_SET = '/content/drive/My Drive/Colab Notebooks/Data/train_set.pickle'\n",
        "TEST_SET = '/content/drive/My Drive/Colab Notebooks/Data/test_set.pickle'\n",
        "\n",
        "with open(TEST_SET, 'rb') as file:\n",
        "    test_set = pickle.load(file)\n",
        "    x_test = test_set['x']\n",
        "    y_test = test_set['y']\n",
        "\n",
        "with open(TRAIN_SET, 'rb') as file:\n",
        "    train_set = pickle.load(file)\n",
        "    x_train = train_set['x']\n",
        "    y_train = train_set['y']"
      ],
      "execution_count": 1,
      "outputs": [
        {
          "output_type": "stream",
          "text": [
            "Drive already mounted at /content/drive; to attempt to forcibly remount, call drive.mount(\"/content/drive\", force_remount=True).\n"
          ],
          "name": "stdout"
        }
      ]
    },
    {
      "metadata": {
        "id": "x2Q8Cy8HZ8dB",
        "colab_type": "text"
      },
      "cell_type": "markdown",
      "source": [
        "### Input functions for Estimator"
      ]
    },
    {
      "metadata": {
        "id": "uiTIHzr5Wsmn",
        "colab_type": "code",
        "colab": {}
      },
      "cell_type": "code",
      "source": [
        "def combined_dataset(features, labels):\n",
        "    assert features.shape[0] == labels.shape[0]\n",
        "    dataset = tf.data.Dataset.from_tensor_slices(({'time_series': features}, labels))\n",
        "    return dataset\n",
        "\n",
        "def class_for_element(features, labels):\n",
        "    return labels\n",
        "\n",
        "# For training\n",
        "def train_input_fn():\n",
        "    dataset = combined_dataset(x_train, y_train)\n",
        "    return dataset.repeat().shuffle(500000).batch(200).prefetch(1)\n",
        "\n",
        "# For evaluation and metrics\n",
        "def eval_input_fn():\n",
        "    dataset = combined_dataset(x_test, y_test)\n",
        "    return dataset.batch(1000).prefetch(1)"
      ],
      "execution_count": 0,
      "outputs": []
    },
    {
      "metadata": {
        "id": "PnGsC48GaGTk",
        "colab_type": "text"
      },
      "cell_type": "markdown",
      "source": [
        "### Define the model\n",
        "#### Bayesian CNN Model\n",
        "* The convolutional model is taken from: https://arxiv.org/pdf/1805.00794.pdf\n",
        "\n",
        "Model consists of:\n",
        "* An initial 1-D convolutional layer\n",
        "* 5 repeated residual blocks (`same` padding)\n",
        "* A fully-connected layer\n",
        "* A linear layer with softmax output\n",
        "* Flipout layers are used instead of standard layers"
      ]
    },
    {
      "metadata": {
        "id": "Q8XdxTVYaO1q",
        "colab_type": "code",
        "outputId": "4fb296e4-4594-4e58-d142-1f2480bb9079",
        "colab": {
          "base_uri": "https://localhost:8080/",
          "height": 136
        }
      },
      "cell_type": "code",
      "source": [
        "MODEL_DIR = '/content/drive/My Drive/Colab Notebooks/Models/BayesianCNN'\n",
        "\n",
        "import tensorflow_probability as tfp\n",
        "\n",
        "def conv_unit(unit, input_layer):\n",
        "    s = '_' + str(unit)\n",
        "    layer = tfp.layers.Convolution1DFlipout(name='Conv1' + s, filters=32, kernel_size=5, strides=1, padding='same', activation='relu')(input_layer)\n",
        "    layer = tfp.layers.Convolution1DFlipout(name='Conv2' + s, filters=32, kernel_size=5, strides=1, padding='same', activation=None)(layer )\n",
        "    layer = keras.Add(name='ResidualSum' + s)([layer, input_layer])\n",
        "    layer = keras.Activation(\"relu\", name='Act' + s)(layer)\n",
        "    layer = keras.MaxPooling1D(name='MaxPool' + s, pool_size=5, strides=2)(layer)\n",
        "    return layer\n",
        "\n",
        "def cnn_model(input_shape, mode, params):\n",
        "    time_series = tf.keras.layers.Input(shape=input_shape, dtype='float32')\n",
        "    current_layer = tfp.layers.Convolution1DFlipout(filters=32, kernel_size=5, strides=1)(time_series)\n",
        "\n",
        "    for i in range(3):\n",
        "        current_layer = conv_unit(i + 1, current_layer)\n",
        "\n",
        "    current_layer = keras.Flatten()(current_layer)\n",
        "    current_layer = tfp.layers.DenseFlipout(32, name='FC1', activation='relu')(current_layer)\n",
        "    logits = tfp.layers.DenseFlipout(5, name='Output')(current_layer)\n",
        "    \n",
        "    model = tf.keras.Model(inputs=time_series, outputs=logits, name='cnn_model')\n",
        "    return model"
      ],
      "execution_count": 3,
      "outputs": [
        {
          "output_type": "stream",
          "text": [
            "\n",
            "WARNING: The TensorFlow contrib module will not be included in TensorFlow 2.0.\n",
            "For more information, please see:\n",
            "  * https://github.com/tensorflow/community/blob/master/rfcs/20180907-contrib-sunset.md\n",
            "  * https://github.com/tensorflow/addons\n",
            "If you depend on functionality not listed there, please file an issue.\n",
            "\n"
          ],
          "name": "stdout"
        }
      ]
    },
    {
      "metadata": {
        "id": "1h96cjFraUo_",
        "colab_type": "text"
      },
      "cell_type": "markdown",
      "source": [
        "### Estimator setup"
      ]
    },
    {
      "metadata": {
        "id": "UvnL1RO4aVOK",
        "colab_type": "code",
        "outputId": "3ef2e713-1d61-4aef-b7e4-02ab986cd3f7",
        "colab": {
          "base_uri": "https://localhost:8080/",
          "height": 178
        }
      },
      "cell_type": "code",
      "source": [
        "import tensorflow.distributions as tfd\n",
        "\n",
        "# Initial learning rate\n",
        "INITIAL_LEARNING_RATE = 0.001\n",
        "\n",
        "# Learning rate decay per LR_DECAY_STEPS steps (1.0 = no decay)\n",
        "LR_DECAY_RATE = 0.5\n",
        "\n",
        "# Number of steps for LR to decay by LR_DECAY_RATE\n",
        "LR_DECAY_STEPS = 4000\n",
        "\n",
        "# Threshold for gradient clipping\n",
        "GRADIENT_NORM_THRESH = 10.0\n",
        "\n",
        "# Select model to train\n",
        "MODEL_FN = cnn_model\n",
        "\n",
        "def classifier_fn(features, labels, mode, params):\n",
        "    is_training = mode == tf.estimator.ModeKeys.TRAIN\n",
        "    input_layer = tf.feature_column.input_layer(features, params['feature_columns'])\n",
        "    input_layer = tf.expand_dims(input_layer, -1)\n",
        "\n",
        "    model = MODEL_FN(input_layer.shape[1:], mode, params)\n",
        "    logits = model(input_layer)\n",
        "    #logits = model\n",
        "    labels_distribution = tfd.Categorical(logits=logits)\n",
        "\n",
        "    # Compute the -ELBO as the loss, averaged over the batch size.\n",
        "    neg_log_likelihood = -tf.reduce_mean(input_tensor=labels_distribution.log_prob(labels))\n",
        "    kl = sum(model.losses) / 441000\n",
        "    loss = neg_log_likelihood + kl\n",
        "    \n",
        "    # For prediction, exit here\n",
        "    predicted_classes = tf.argmax(logits, 1)\n",
        "    if mode == tf.estimator.ModeKeys.PREDICT:\n",
        "        predictions = {\n",
        "            'class_ids': predicted_classes[:, tf.newaxis],\n",
        "            'probabilities': tf.nn.softmax(logits),\n",
        "            'logits': logits,\n",
        "        }\n",
        "        return tf.estimator.EstimatorSpec(mode, predictions=predictions)\n",
        "\n",
        "    # For training and evaluation, compute the loss\n",
        "    #neg_log_likelihood = tf.losses.sparse_softmax_cross_entropy(labels=labels, logits=logits)\n",
        "\n",
        "    accuracy = tf.metrics.accuracy(labels=labels, predictions=predicted_classes, name='acc_op')\n",
        "    metrics = {'accuracy': accuracy}\n",
        "    tf.summary.scalar('accuracy', accuracy[1])\n",
        "\n",
        "    if mode == tf.estimator.ModeKeys.EVAL:\n",
        "        return tf.estimator.EstimatorSpec(mode, loss=loss, eval_metric_ops=metrics)\n",
        "\n",
        "    # For training...\n",
        "    global_step = tf.train.get_global_step()\n",
        "    learning_rate = tf.train.exponential_decay(INITIAL_LEARNING_RATE, global_step, LR_DECAY_STEPS, LR_DECAY_RATE)\n",
        "\n",
        "    optimizer = tf.train.AdamOptimizer(learning_rate=learning_rate)\n",
        "    #optimizer = tf.contrib.estimator.clip_gradients_by_norm(optimizer, GRADIENT_NORM_THRESH)\n",
        "    \n",
        "    train_op = optimizer.minimize(loss, global_step=tf.train.get_global_step())\n",
        "    return tf.estimator.EstimatorSpec(mode, loss=loss, train_op=train_op)\n",
        "\n",
        "feature_columns = [tf.feature_column.numeric_column('time_series', [187])]\n",
        "\n",
        "regressor = tf.estimator.Estimator(\n",
        "    model_fn=classifier_fn,\n",
        "    model_dir=MODEL_DIR,\n",
        "    params={\n",
        "        'feature_columns': feature_columns,\n",
        "    })"
      ],
      "execution_count": 4,
      "outputs": [
        {
          "output_type": "stream",
          "text": [
            "INFO:tensorflow:Using default config.\n",
            "INFO:tensorflow:Using config: {'_model_dir': '/content/drive/My Drive/Colab Notebooks/Models/BayesianCNN', '_tf_random_seed': None, '_save_summary_steps': 100, '_save_checkpoints_steps': None, '_save_checkpoints_secs': 600, '_session_config': allow_soft_placement: true\n",
            "graph_options {\n",
            "  rewrite_options {\n",
            "    meta_optimizer_iterations: ONE\n",
            "  }\n",
            "}\n",
            ", '_keep_checkpoint_max': 5, '_keep_checkpoint_every_n_hours': 10000, '_log_step_count_steps': 100, '_train_distribute': None, '_device_fn': None, '_protocol': None, '_eval_distribute': None, '_experimental_distribute': None, '_service': None, '_cluster_spec': <tensorflow.python.training.server_lib.ClusterSpec object at 0x7f35c08f50f0>, '_task_type': 'worker', '_task_id': 0, '_global_id_in_cluster': 0, '_master': '', '_evaluation_master': '', '_is_chief': True, '_num_ps_replicas': 0, '_num_worker_replicas': 1}\n"
          ],
          "name": "stdout"
        }
      ]
    },
    {
      "metadata": {
        "id": "mYre_-Vzac5B",
        "colab_type": "text"
      },
      "cell_type": "markdown",
      "source": [
        "### Train model"
      ]
    },
    {
      "metadata": {
        "id": "lPjFYGJjadbR",
        "colab_type": "code",
        "outputId": "33f810f3-9d31-4cf0-c9bb-f347075ab6ca",
        "colab": {
          "base_uri": "https://localhost:8080/",
          "height": 513
        }
      },
      "cell_type": "code",
      "source": [
        "regressor.train(train_input_fn, steps=4000)\n",
        "\n",
        "info = regressor.evaluate(input_fn=eval_input_fn)"
      ],
      "execution_count": 0,
      "outputs": [
        {
          "output_type": "stream",
          "text": [
            "WARNING:tensorflow:From /usr/local/lib/python3.6/dist-packages/tensorflow/python/framework/op_def_library.py:263: colocate_with (from tensorflow.python.framework.ops) is deprecated and will be removed in a future version.\n",
            "Instructions for updating:\n",
            "Colocations handled automatically by placer.\n",
            "INFO:tensorflow:Calling model_fn.\n",
            "WARNING:tensorflow:From /usr/local/lib/python3.6/dist-packages/tensorflow/python/feature_column/feature_column.py:205: NumericColumn._get_dense_tensor (from tensorflow.python.feature_column.feature_column_v2) is deprecated and will be removed after 2018-11-30.\n",
            "Instructions for updating:\n",
            "The old _FeatureColumn APIs are being deprecated. Please use the new FeatureColumn APIs instead.\n",
            "WARNING:tensorflow:From /usr/local/lib/python3.6/dist-packages/tensorflow/python/feature_column/feature_column.py:2121: NumericColumn._transform_feature (from tensorflow.python.feature_column.feature_column_v2) is deprecated and will be removed after 2018-11-30.\n",
            "Instructions for updating:\n",
            "The old _FeatureColumn APIs are being deprecated. Please use the new FeatureColumn APIs instead.\n",
            "WARNING:tensorflow:From /usr/local/lib/python3.6/dist-packages/tensorflow/python/feature_column/feature_column_v2.py:2703: to_float (from tensorflow.python.ops.math_ops) is deprecated and will be removed in a future version.\n",
            "Instructions for updating:\n",
            "Use tf.cast instead.\n",
            "WARNING:tensorflow:From /usr/local/lib/python3.6/dist-packages/tensorflow/python/feature_column/feature_column.py:206: NumericColumn._variable_shape (from tensorflow.python.feature_column.feature_column_v2) is deprecated and will be removed after 2018-11-30.\n",
            "Instructions for updating:\n",
            "The old _FeatureColumn APIs are being deprecated. Please use the new FeatureColumn APIs instead.\n",
            "WARNING:tensorflow:From <ipython-input-4-4ed282f6c6f3>:26: Categorical.__init__ (from tensorflow.python.ops.distributions.categorical) is deprecated and will be removed after 2019-01-01.\n",
            "Instructions for updating:\n",
            "The TensorFlow Distributions library has moved to TensorFlow Probability (https://github.com/tensorflow/probability). You should update all references to use `tfp.distributions` instead of `tf.distributions`.\n",
            "WARNING:tensorflow:From /usr/local/lib/python3.6/dist-packages/tensorflow/python/ops/distributions/categorical.py:242: Distribution.__init__ (from tensorflow.python.ops.distributions.distribution) is deprecated and will be removed after 2019-01-01.\n",
            "Instructions for updating:\n",
            "The TensorFlow Distributions library has moved to TensorFlow Probability (https://github.com/tensorflow/probability). You should update all references to use `tfp.distributions` instead of `tf.distributions`.\n",
            "WARNING:tensorflow:From /usr/local/lib/python3.6/dist-packages/tensorflow/python/ops/math_ops.py:3066: to_int32 (from tensorflow.python.ops.math_ops) is deprecated and will be removed in a future version.\n",
            "Instructions for updating:\n",
            "Use tf.cast instead.\n",
            "INFO:tensorflow:Done calling model_fn.\n",
            "INFO:tensorflow:Create CheckpointSaverHook.\n",
            "INFO:tensorflow:Graph was finalized.\n"
          ],
          "name": "stdout"
        }
      ]
    },
    {
      "metadata": {
        "id": "nM4YXCgeaga6",
        "colab_type": "text"
      },
      "cell_type": "markdown",
      "source": [
        "### Compute metrics"
      ]
    },
    {
      "metadata": {
        "id": "mhCK0g-faiqI",
        "colab_type": "code",
        "colab": {}
      },
      "cell_type": "code",
      "source": [
        "import sklearn.metrics as skm\n",
        "\n",
        "dataset_fn = eval_input_fn\n",
        "\n",
        "predictions = regressor.predict(input_fn=dataset_fn)\n",
        "y_predicted = []\n",
        "y_prob = []\n",
        "\n",
        "for i, value in enumerate(predictions):\n",
        "    y_predicted.append(value['class_ids'])\n",
        "    y_prob.append(value['probabilities'])\n",
        "del predictions\n",
        "\n",
        "y_test = np.reshape(y_test, (len(y_test), 1))\n",
        "\n",
        "# Classification report\n",
        "report = skm.classification_report(y_test, y_predicted)\n",
        "print(report)\n",
        "\n",
        "# Confusion matrix\n",
        "conf = skm.confusion_matrix(y_test, y_predicted)\n",
        "print(conf)"
      ],
      "execution_count": 0,
      "outputs": []
    },
    {
      "metadata": {
        "id": "BtlFRg6Daotn",
        "colab_type": "code",
        "colab": {}
      },
      "cell_type": "code",
      "source": [
        "y_prob = np.array(y_prob)\n",
        "correct = []\n",
        "false_pos = []\n",
        "false_neg = []\n",
        "\n",
        "for k in range(5):\n",
        "    for i in range(len(y_test)):\n",
        "        if y_test[i] == k and y_predicted[i] == k:\n",
        "            correct.append(y_prob[i, k])\n",
        "        elif y_test[i] == k and y_predicted[i] != k:\n",
        "            false_neg.append(y_prob[i, k])\n",
        "        elif y_test[i] != k and y_predicted[i] == k:\n",
        "            false_pos.append(y_prob[i, k])\n",
        "\n",
        "n, bins, patches = plt.hist(correct, 20, (0, 1))\n",
        "plt.xlabel('Probability')\n",
        "plt.title('Correctly Classified')\n",
        "plt.show();\n",
        "\n",
        "n, bins, patches = plt.hist(false_pos, 20, (0, 1))\n",
        "plt.xlabel('Probability')\n",
        "plt.title('False Positives')\n",
        "plt.show();\n",
        "\n",
        "n, bins, patches = plt.hist(false_neg, 20, (0, 1))\n",
        "plt.xlabel('Probability')\n",
        "plt.title('False Negatives')\n",
        "plt.show()"
      ],
      "execution_count": 0,
      "outputs": []
    }
  ]
}