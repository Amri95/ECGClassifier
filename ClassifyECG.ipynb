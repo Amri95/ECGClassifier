{
 "cells": [
  {
   "cell_type": "markdown",
   "metadata": {},
   "source": [
    "# Classification Analysis for ECG Time-Series\n",
    "\n",
    "> Copyright 2019 Dave Fernandes. All Rights Reserved.\n",
    "> \n",
    "> Licensed under the Apache License, Version 2.0 (the \"License\");\n",
    "> you may not use this file except in compliance with the License.\n",
    "> You may obtain a copy of the License at\n",
    ">\n",
    "> http://www.apache.org/licenses/LICENSE-2.0\n",
    ">  \n",
    "> Unless required by applicable law or agreed to in writing, software\n",
    "> distributed under the License is distributed on an \"AS IS\" BASIS,\n",
    "> WITHOUT WARRANTIES OR CONDITIONS OF ANY KIND, either express or implied.\n",
    "> See the License for the specific language governing permissions and\n",
    "> limitations under the License."
   ]
  },
  {
   "cell_type": "markdown",
   "metadata": {},
   "source": [
    "## Overview\n",
    "This notebook performs regression to predict sentiment and helpfulness scores from text reviews.\n",
    "- Data for this analysis should be prepared using the `PreprocessECG.ipynb` notebook from this project.\n",
    "- Original data is from: https://www.kaggle.com/coni57/model-from-arxiv-1805-00794"
   ]
  },
  {
   "cell_type": "code",
   "execution_count": 1,
   "metadata": {},
   "outputs": [],
   "source": [
    "import numpy as np\n",
    "import tensorflow as tf\n",
    "import tensorflow.keras.layers as keras\n",
    "import matplotlib.pyplot as plt\n",
    "import pickle\n",
    "\n",
    "tf.enable_eager_execution()\n",
    "\n",
    "TRAIN_SET = './Data/train_balanced.pickle'\n",
    "TEST_SET = './Data/test_set.pickle'\n",
    "\n",
    "with open(TEST_SET, 'rb') as file:\n",
    "    test_set = pickle.load(file)\n",
    "    x_test = test_set['x']\n",
    "    y_test = test_set['y']\n",
    "\n",
    "with open(TRAIN_SET, 'rb') as file:\n",
    "    train_set = pickle.load(file)\n",
    "    x_train = train_set['x']\n",
    "    y_train = train_set['y']"
   ]
  },
  {
   "cell_type": "markdown",
   "metadata": {},
   "source": [
    "### Input functions for Estimator"
   ]
  },
  {
   "cell_type": "code",
   "execution_count": 2,
   "metadata": {},
   "outputs": [],
   "source": [
    "def combined_dataset(features, labels):\n",
    "    assert features.shape[0] == labels.shape[0]\n",
    "    dataset = tf.data.Dataset.from_tensor_slices(({'time_series': features}, labels))\n",
    "    return dataset\n",
    "\n",
    "def class_for_element(features, labels):\n",
    "    return labels\n",
    "\n",
    "# For training\n",
    "def train_input_fn():\n",
    "    dataset = combined_dataset(x_train, y_train)\n",
    "    return dataset.repeat().shuffle(500000).batch(200).prefetch(1)\n",
    "\n",
    "# For evaluation and plotting predictions\n",
    "def eval_input_fn():\n",
    "    dataset = combined_dataset(x_test, y_test)\n",
    "    return dataset.batch(1000).prefetch(1)"
   ]
  },
  {
   "cell_type": "markdown",
   "metadata": {},
   "source": [
    "### Define the models\n",
    "* The first model is taken from: https://arxiv.org/pdf/1805.00794.pdf"
   ]
  },
  {
   "cell_type": "code",
   "execution_count": 3,
   "metadata": {},
   "outputs": [],
   "source": [
    "CNN_MODEL_DIR = './Models/CNN-Paper'\n",
    "\n",
    "def conv_unit(unit, input_layer):\n",
    "    s = '_' + str(unit)\n",
    "    layer = keras.Conv1D(name='Conv1' + s, filters=32, kernel_size=5, strides=1, padding='same', activation='relu')(input_layer)\n",
    "    layer = keras.Conv1D(name='Conv2' + s, filters=32, kernel_size=5, strides=1, padding='same', activation=None)(layer )\n",
    "    layer = keras.Add(name='ResidualSum' + s)([layer, input_layer])\n",
    "    layer = keras.Activation(\"relu\", name='Act' + s)(layer)\n",
    "    layer = keras.MaxPooling1D(name='MaxPool' + s, pool_size=5, strides=2)(layer)\n",
    "    return layer\n",
    "\n",
    "def conv_model(input_layer, mode, params):\n",
    "    current_layer = keras.Conv1D(filters=32, kernel_size=5, strides=1)(input_layer)\n",
    "\n",
    "    for i in range(5):\n",
    "        current_layer = conv_unit(i + 1, current_layer)\n",
    "\n",
    "    current_layer = keras.Flatten()(current_layer)\n",
    "    current_layer = keras.Dense(32, name='FC1', activation='relu')(current_layer)\n",
    "    current_layer = keras.Dense(32, name='FC2')(current_layer)\n",
    "    logits = keras.Dense(5, name='Output')(current_layer)\n",
    "    \n",
    "    return logits"
   ]
  },
  {
   "cell_type": "markdown",
   "metadata": {},
   "source": [
    "- RNN model"
   ]
  },
  {
   "cell_type": "code",
   "execution_count": 4,
   "metadata": {},
   "outputs": [],
   "source": [
    "RNN_MODEL_DIR = './Models/GRU'\n",
    "RNN_OUTPUT_UNITS = [128, 256]\n",
    "\n",
    "def rnn_model(input_layer, mode, params):\n",
    "    current_layer = tf.keras.layers.Masking(mask_value=0., input_shape=(187, 1), name='Masked')(input_layer)\n",
    "\n",
    "    for i, size in enumerate(RNN_OUTPUT_UNITS):\n",
    "        notLast = i + 1 < len(RNN_OUTPUT_UNITS)\n",
    "        #current_layer = tf.keras.layers.LSTM(size, return_sequences=notLast, dropout=0.2, recurrent_dropout=0.0, name = 'LSTM' + str(i+1))(current_layer)\n",
    "        current_layer = tf.keras.layers.GRU(size, return_sequences=notLast, dropout=0.2, recurrent_dropout=0.0, name = 'GRU' + str(i+1))(current_layer)\n",
    "    \n",
    "    current_layer = keras.Dense(64, name='Dense1', activation='relu')(current_layer)\n",
    "    current_layer = keras.Dense(16, name='Dense2', activation='relu')(current_layer)\n",
    "    logits = keras.Dense(5, name='Output', activation='relu')(current_layer)\n",
    "    \n",
    "    return logits"
   ]
  },
  {
   "cell_type": "code",
   "execution_count": null,
   "metadata": {},
   "outputs": [],
   "source": [
    "RNN_MODEL_DIR = './Models/RNN'\n",
    "RNN_OUTPUT_UNITS = [64, 128]\n",
    "\n",
    "def birnn_model(input_layer, mode, params):\n",
    "    current_layer = tf.keras.layers.Masking(mask_value=0., input_shape=(187, 1), name='Masked')(input_layer)\n",
    "    \n",
    "    for i, size in enumerate(RNN_OUTPUT_UNITS):\n",
    "        notLast = i + 1 < len(RNN_OUTPUT_UNITS)\n",
    "        layer = tf.keras.layers.GRU(size, return_sequences=notLast, dropout=0.2, name = 'GRU' + str(i+1))\n",
    "        current_layer = keras.Bidirectional(layer, name = 'BiRNN' + str(i+1))(current_layer)\n",
    "\n",
    "    current_layer = keras.Dense(64, name='Dense1', activation='relu')(current_layer)\n",
    "    current_layer = keras.Dense(16, name='Dense2', activation='relu')(current_layer)\n",
    "    logits = keras.Dense(5, name='Output', activation='relu')(current_layer)\n",
    "    \n",
    "    return logits"
   ]
  },
  {
   "cell_type": "markdown",
   "metadata": {},
   "source": [
    "### Estimator setup"
   ]
  },
  {
   "cell_type": "code",
   "execution_count": null,
   "metadata": {},
   "outputs": [],
   "source": [
    "# Initial learning rate\n",
    "INITIAL_LEARNING_RATE = 0.001\n",
    "\n",
    "# Learning rate decay per LR_DECAY_STEPS steps (1.0 = no decay)\n",
    "LR_DECAY_RATE = 0.5\n",
    "\n",
    "# Number of steps for LR to decay by LR_DECAY_RATE\n",
    "LR_DECAY_STEPS = 4000\n",
    "\n",
    "# Threshold for gradient clipping\n",
    "GRADIENT_NORM_THRESH = 10.0\n",
    "\n",
    "# Select model to train\n",
    "MODEL_DIR = RNN_MODEL_DIR\n",
    "MODEL_FN = birnn_model\n",
    "\n",
    "def classifier_fn(features, labels, mode, params):\n",
    "    is_training = mode == tf.estimator.ModeKeys.TRAIN\n",
    "    input_layer = tf.feature_column.input_layer(features, params['feature_columns'])\n",
    "    input_layer = tf.expand_dims(input_layer, -1)\n",
    "\n",
    "    logits = MODEL_FN(input_layer, mode, params)\n",
    "\n",
    "    # For prediction, exit here\n",
    "    predicted_classes = tf.argmax(logits, 1)\n",
    "    if mode == tf.estimator.ModeKeys.PREDICT:\n",
    "        predictions = {\n",
    "            'class_ids': predicted_classes[:, tf.newaxis],\n",
    "            'probabilities': tf.nn.softmax(logits),\n",
    "            'logits': logits,\n",
    "        }\n",
    "        return tf.estimator.EstimatorSpec(mode, predictions=predictions)\n",
    "\n",
    "    # For training and evaluation, compute the loss (MSE)\n",
    "    #labels = tf.reshape(labels, tf.shape(regression_layer))\n",
    "    loss = tf.losses.sparse_softmax_cross_entropy(labels=labels, logits=logits)\n",
    "\n",
    "    accuracy = tf.metrics.accuracy(labels=labels, predictions=predicted_classes, name='acc_op')\n",
    "    \"\"\"\n",
    "    global_max_grad = None\n",
    "    for grad in tf.gradients(loss, tf.trainable_variables()):\n",
    "        max_grad = tf.reduce_max(grad)\n",
    "        if global_max_grad is None:\n",
    "            global_max_grad = max_grad\n",
    "        else:\n",
    "            global_max_grad = tf.maximum(global_max_grad, max_grad)\n",
    "            \n",
    "    max_gradient = tf.metrics.mean(tf.reshape(global_max_grad, [1, 1]), name='mean_maxgrad_op')\n",
    "    #max_gradient = global_max_grad\n",
    "    metrics = {'accuracy': accuracy, 'max_gradient': max_gradient}\n",
    "    \"\"\"\n",
    "    metrics = {'accuracy': accuracy}\n",
    "    tf.summary.scalar('accuracy', accuracy[1])\n",
    "    #tf.summary.scalar('max_gradient', max_gradient)\n",
    "\n",
    "\n",
    "    if mode == tf.estimator.ModeKeys.EVAL:\n",
    "        return tf.estimator.EstimatorSpec(mode, loss=loss, eval_metric_ops=metrics)\n",
    "\n",
    "    # For training...\n",
    "    global_step = tf.train.get_global_step()\n",
    "    learning_rate = tf.train.exponential_decay(INITIAL_LEARNING_RATE, global_step, LR_DECAY_STEPS, LR_DECAY_RATE)\n",
    "\n",
    "    optimizer = tf.train.AdamOptimizer(learning_rate=learning_rate)\n",
    "    #optimizer = tf.contrib.estimator.clip_gradients_by_norm(optimizer, GRADIENT_NORM_THRESH)\n",
    "    \n",
    "    train_op = optimizer.minimize(loss, global_step=tf.train.get_global_step())\n",
    "    return tf.estimator.EstimatorSpec(mode, loss=loss, train_op=train_op)"
   ]
  },
  {
   "cell_type": "markdown",
   "metadata": {},
   "source": [
    "### Train model"
   ]
  },
  {
   "cell_type": "code",
   "execution_count": null,
   "metadata": {},
   "outputs": [
    {
     "name": "stdout",
     "output_type": "stream",
     "text": [
      "INFO:tensorflow:Using default config.\n",
      "INFO:tensorflow:Using config: {'_model_dir': './Models/RNN', '_tf_random_seed': None, '_save_summary_steps': 100, '_save_checkpoints_steps': None, '_save_checkpoints_secs': 600, '_session_config': allow_soft_placement: true\n",
      "graph_options {\n",
      "  rewrite_options {\n",
      "    meta_optimizer_iterations: ONE\n",
      "  }\n",
      "}\n",
      ", '_keep_checkpoint_max': 5, '_keep_checkpoint_every_n_hours': 10000, '_log_step_count_steps': 100, '_train_distribute': None, '_device_fn': None, '_protocol': None, '_eval_distribute': None, '_experimental_distribute': None, '_service': None, '_cluster_spec': <tensorflow.python.training.server_lib.ClusterSpec object at 0xb3d3ca748>, '_task_type': 'worker', '_task_id': 0, '_global_id_in_cluster': 0, '_master': '', '_evaluation_master': '', '_is_chief': True, '_num_ps_replicas': 0, '_num_worker_replicas': 1}\n",
      "INFO:tensorflow:Calling model_fn.\n",
      "INFO:tensorflow:Done calling model_fn.\n",
      "INFO:tensorflow:Create CheckpointSaverHook.\n",
      "INFO:tensorflow:Graph was finalized.\n",
      "INFO:tensorflow:Restoring parameters from ./Models/RNN/model.ckpt-2000\n",
      "INFO:tensorflow:Running local_init_op.\n",
      "INFO:tensorflow:Done running local_init_op.\n",
      "INFO:tensorflow:Saving checkpoints for 2000 into ./Models/RNN/model.ckpt.\n",
      "INFO:tensorflow:loss = 0.07811045, step = 2001\n",
      "INFO:tensorflow:global_step/sec: 0.240464\n",
      "INFO:tensorflow:loss = 0.0809226, step = 2101 (415.863 sec)\n",
      "INFO:tensorflow:Saving checkpoints for 2137 into ./Models/RNN/model.ckpt.\n",
      "INFO:tensorflow:global_step/sec: 0.242132\n",
      "INFO:tensorflow:loss = 0.102712825, step = 2201 (412.997 sec)\n",
      "INFO:tensorflow:Saving checkpoints for 2287 into ./Models/RNN/model.ckpt.\n",
      "INFO:tensorflow:global_step/sec: 0.250937\n",
      "INFO:tensorflow:loss = 0.15919255, step = 2301 (398.506 sec)\n"
     ]
    }
   ],
   "source": [
    "feature_columns = [tf.feature_column.numeric_column('time_series', [187])]\n",
    "\n",
    "regressor = tf.estimator.Estimator(\n",
    "    model_fn=classifier_fn,\n",
    "    model_dir=MODEL_DIR,\n",
    "    params={\n",
    "        'feature_columns': feature_columns,\n",
    "    })\n",
    "\n",
    "regressor.train(train_input_fn, steps=2000)\n",
    "\n",
    "info = regressor.evaluate(input_fn=eval_input_fn)"
   ]
  },
  {
   "cell_type": "markdown",
   "metadata": {},
   "source": [
    "### Compute metrics"
   ]
  },
  {
   "cell_type": "code",
   "execution_count": null,
   "metadata": {},
   "outputs": [],
   "source": [
    "import sklearn.metrics as skm\n",
    "\n",
    "dataset_fn = eval_input_fn\n",
    "\n",
    "predictions = regressor.predict(input_fn=dataset_fn)\n",
    "y_predicted = []\n",
    "\n",
    "for i, value in enumerate(predictions):\n",
    "    y_predicted.append(value['class_ids'])\n",
    "del predictions\n",
    "\n",
    "y_test = np.reshape(y_test, (len(y_test), 1))\n",
    "\n",
    "# Classification report\n",
    "report = skm.classification_report(y_test, y_predicted)\n",
    "print(report)\n",
    "\n",
    "# Confusion matrix\n",
    "conf = skm.confusion_matrix(y_test, y_predicted)\n",
    "print(conf)"
   ]
  },
  {
   "cell_type": "code",
   "execution_count": null,
   "metadata": {},
   "outputs": [],
   "source": []
  }
 ],
 "metadata": {
  "kernelspec": {
   "display_name": "Python 3",
   "language": "python",
   "name": "python3"
  },
  "language_info": {
   "codemirror_mode": {
    "name": "ipython",
    "version": 3
   },
   "file_extension": ".py",
   "mimetype": "text/x-python",
   "name": "python",
   "nbconvert_exporter": "python",
   "pygments_lexer": "ipython3",
   "version": "3.6.7"
  }
 },
 "nbformat": 4,
 "nbformat_minor": 2
}
